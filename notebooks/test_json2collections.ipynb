{
 "cells": [
  {
   "cell_type": "code",
   "execution_count": 1,
   "metadata": {},
   "outputs": [],
   "source": [
    "import gzip\n",
    "import gc\n",
    "import json\n",
    "import re\n",
    "import yaml\n",
    "import pandas as pd\n",
    "from pprint import pprint\n",
    "from itertools import product\n",
    "from wos_parser.chunkflusher import ChunkFlusherMono, FPSmart\n",
    "from wos_db_studies.utils_json import apply_mapper, process_document_top, parse_edges\n",
    "from collections import defaultdict\n",
    "from functools import partial\n",
    "import multiprocessing as mp\n",
    "import timeit\n",
    "from os.path import expanduser\n",
    "from IPython.core.display import display, HTML\n",
    "\n",
    "%load_ext autoreload\n",
    "%autoreload 2"
   ]
  },
  {
   "cell_type": "code",
   "execution_count": 2,
   "metadata": {},
   "outputs": [],
   "source": [
    "sources = [\n",
    "    expanduser(\"~/data/wos/experiment/tmp/1980/WR_1980_20190212023637_DSSHPSH_0001#good#0.json.gz\"),\n",
    "    expanduser(\"~/data/wos/experiment/tmp/1985/dump_xml_0#good#0.json.gz\"),\n",
    "    expanduser(\"~/data/wos/experiment/tmp/2010/WR_2010_20190215011716_DSSHPSH_0001#good#0.json.gz\"),\n",
    "    expanduser(\"~/data/wos/experiment/tmp/2010/dsimple#good#0.json.gz\"),\n",
    "    expanduser(\"~/data/wos/experiment/tmp/1985/dsimple#good#0.json.gz\"),\n",
    "]\n",
    "\n",
    "source = sources[-1]\n",
    "target = None\n",
    "if target is None:\n",
    "    target = source.split(\".\")[0]\n",
    "    \n",
    "target_prefix = target.split(\".\")[0]\n",
    "pattern=None\n",
    "\n",
    "if source[-2:] == \"gz\":\n",
    "    open_foo = gzip.GzipFile\n",
    "elif source[-3:] == \"xml\":\n",
    "    open_foo = open\n",
    "else:\n",
    "    raise ValueError(\"Unknown file type\")\n",
    "\n",
    "with open_foo(source, 'rb') as fp:\n",
    "    if pattern:\n",
    "        fps = FPSmart(fp, pattern)\n",
    "    else:\n",
    "        fps = fp\n",
    "    data = json.load(fps)"
   ]
  },
  {
   "cell_type": "code",
   "execution_count": 3,
   "metadata": {},
   "outputs": [],
   "source": [
    "config_path = \"../../../misc_lib/wos_db_studies/conf/wos_json_simple.yaml\"\n",
    "with open(config_path, \"r\") as f:\n",
    "    config = yaml.load(f, Loader=yaml.FullLoader)\n",
    "index_fields_dict = {\n",
    "    k: v[\"index\"] for k, v in config[\"vertex_collections\"].items()\n",
    "}\n",
    "\n",
    "all_fields_dict = {\n",
    "    k: v[\"fields\"] for k, v in config[\"vertex_collections\"].items()\n",
    "}\n",
    "\n",
    "edge_des, excl_fields = parse_edges(config[\"json\"], [], defaultdict(list))\n",
    "r0 = process_document_top(data[12], config[\"json\"], \n",
    "                         config[\"vertex_collections\"],\n",
    "                         excl_fields, [\"publication\"]\n",
    "                        )"
   ]
  },
  {
   "cell_type": "code",
   "execution_count": 4,
   "metadata": {
    "scrolled": false
   },
   "outputs": [
    {
     "name": "stderr",
     "output_type": "stream",
     "text": [
      "{'how': 'dict', 'name': 'publication', 'map': {'uid': '_key', 'xref_doi': 'doi', 'page': 'first_page', 'citedTitle': 'title'}}\n",
      "None\n",
      "{'how': 'dict', 'name': 'date'}\n",
      "None\n",
      "{'how': 'dict', 'name': 'medium_title', 'map': {'citedWork': 'title'}}\n",
      "None\n",
      "{'how': 'dict', 'descend_key': 'reference', 'name': 'contributor', 'map': {'citedAuthor': 'wos_standard'}}\n",
      "None\n",
      "{'how': 'dict', 'name': 'publication', 'map': {'uid': '_key', 'xref_doi': 'doi', 'page': 'first_page', 'citedTitle': 'title'}}\n",
      "None\n",
      "{'how': 'dict', 'name': 'date'}\n",
      "None\n",
      "{'how': 'dict', 'name': 'medium_title', 'map': {'citedWork': 'title'}}\n",
      "None\n",
      "{'how': 'dict', 'descend_key': 'reference', 'name': 'contributor', 'map': {'citedAuthor': 'wos_standard'}}\n",
      "None\n",
      "{'how': 'dict', 'name': 'publication', 'map': {'uid': '_key', 'xref_doi': 'doi', 'page': 'first_page', 'citedTitle': 'title'}}\n",
      "None\n",
      "{'how': 'dict', 'name': 'date'}\n",
      "None\n",
      "{'how': 'dict', 'name': 'medium_title', 'map': {'citedWork': 'title'}}\n",
      "None\n",
      "{'how': 'dict', 'descend_key': 'reference', 'name': 'contributor', 'map': {'citedAuthor': 'wos_standard'}}\n",
      "None\n",
      "{'how': 'dict', 'name': 'publication', 'map': {'uid': '_key', 'xref_doi': 'doi', 'page': 'first_page', 'citedTitle': 'title'}}\n",
      "None\n",
      "{'how': 'dict', 'name': 'date'}\n",
      "None\n",
      "{'how': 'dict', 'name': 'medium_title', 'map': {'citedWork': 'title'}}\n",
      "None\n",
      "{'how': 'dict', 'descend_key': 'reference', 'name': 'contributor', 'map': {'citedAuthor': 'wos_standard'}}\n",
      "None\n",
      "{'how': 'dict', 'name': 'publication', 'map': {'uid': '_key', 'xref_doi': 'doi', 'page': 'first_page', 'citedTitle': 'title'}}\n",
      "None\n",
      "{'how': 'dict', 'name': 'date'}\n",
      "None\n",
      "{'how': 'dict', 'name': 'medium_title', 'map': {'citedWork': 'title'}}\n",
      "None\n",
      "{'how': 'dict', 'descend_key': 'reference', 'name': 'contributor', 'map': {'citedAuthor': 'wos_standard'}}\n",
      "None\n",
      "{'how': 'dict', 'name': 'publication', 'map': {'uid': '_key', 'xref_doi': 'doi', 'page': 'first_page', 'citedTitle': 'title'}}\n",
      "None\n",
      "{'how': 'dict', 'name': 'date'}\n",
      "None\n",
      "{'how': 'dict', 'name': 'medium_title', 'map': {'citedWork': 'title'}}\n",
      "None\n",
      "{'how': 'dict', 'descend_key': 'reference', 'name': 'contributor', 'map': {'citedAuthor': 'wos_standard'}}\n",
      "None\n",
      "{'how': 'dict', 'name': 'publication', 'map': {'uid': '_key', 'xref_doi': 'doi', 'page': 'first_page', 'citedTitle': 'title'}}\n",
      "None\n",
      "{'how': 'dict', 'name': 'date'}\n",
      "None\n",
      "{'how': 'dict', 'name': 'medium_title', 'map': {'citedWork': 'title'}}\n",
      "None\n",
      "{'how': 'dict', 'descend_key': 'reference', 'name': 'contributor', 'map': {'citedAuthor': 'wos_standard'}}\n",
      "None\n",
      "{'how': 'dict', 'name': 'publication', 'map': {'uid': '_key', 'xref_doi': 'doi', 'page': 'first_page', 'citedTitle': 'title'}}\n",
      "None\n",
      "{'how': 'dict', 'name': 'date'}\n",
      "None\n",
      "{'how': 'dict', 'name': 'medium_title', 'map': {'citedWork': 'title'}}\n",
      "None\n",
      "{'how': 'dict', 'descend_key': 'reference', 'name': 'contributor', 'map': {'citedAuthor': 'wos_standard'}}\n",
      "None\n",
      "{'how': 'dict', 'name': 'publication', 'map': {'uid': '_key', 'xref_doi': 'doi', 'page': 'first_page', 'citedTitle': 'title'}}\n",
      "None\n",
      "{'how': 'dict', 'name': 'date'}\n",
      "None\n",
      "{'how': 'dict', 'name': 'medium_title', 'map': {'citedWork': 'title'}}\n",
      "None\n",
      "{'how': 'dict', 'descend_key': 'reference', 'name': 'contributor', 'map': {'citedAuthor': 'wos_standard'}}\n",
      "None\n"
     ]
    }
   ],
   "source": [
    "acc = []\n",
    "stats = []\n",
    "rtot = defaultdict(list)\n",
    "for j, item in enumerate(data[:1000]):\n",
    "    r0 = process_document_top(item, config[\"json\"], \n",
    "                             config[\"vertex_collections\"],\n",
    "                             excl_fields, [\"publication\"]\n",
    "                            )\n",
    "\n",
    "    for k, v in r0.items():\n",
    "        rtot[k].extend(v)\n",
    "\n",
    "    kkeys = sorted(r0.keys(), key=lambda x: x[0] + x[1] if isinstance(x, tuple) else x)\n",
    "    acc += [(j, len(kkeys))]\n",
    "    stats += [pd.DataFrame([(k, len(r0[k])) \n",
    "                            for k in kkeys]).rename(columns={1: f\"{j}\"}).set_index(0)]"
   ]
  },
  {
   "cell_type": "code",
   "execution_count": 5,
   "metadata": {},
   "outputs": [],
   "source": [
    "kkey_vertex = sorted([k for k in rtot.keys() if len(k) > 2])\n",
    "kkey_edge = sorted([k for k in rtot.keys() if len(k) ==  2])"
   ]
  },
  {
   "cell_type": "code",
   "execution_count": 9,
   "metadata": {},
   "outputs": [],
   "source": [
    "from wos_db_studies.utils import pick_unique_dict\n",
    "rtotu = defaultdict(list)\n",
    "for k, v in rtot.items():\n",
    "    rtotu[k] = pick_unique_dict(v)"
   ]
  },
  {
   "cell_type": "code",
   "execution_count": 10,
   "metadata": {},
   "outputs": [
    {
     "name": "stdout",
     "output_type": "stream",
     "text": [
      "('publisher', 'location')\n",
      "[[{'display_name': 'royal soc chemistry'},\n",
      "  {'city': 'cambridge'},\n",
      "  {'publication': 'WOS:000282872600021', 'role': 'publisher', 'seq_no': '1'}],\n",
      " [{'display_name': 'begell house inc'},\n",
      "  {'city': 'redding'},\n",
      "  {'publication': 'WOS:000282534500001', 'role': 'publisher', 'seq_no': '1'}],\n",
      " [{'display_name': 'oxford univ press inc'},\n",
      "  {'city': 'cary'},\n",
      "  {'publication': 'WOS:000280297001485', 'role': 'publisher', 'seq_no': '1'}],\n",
      " [{'display_name': 'canadian psychological  assoc'},\n",
      "  {'city': 'ottawa'},\n",
      "  {'publication': 'WOS:000285987800034', 'role': 'publisher', 'seq_no': '1'}],\n",
      " [{'display_name': 'sage publications inc'},\n",
      "  {'city': 'thousand oaks'},\n",
      "  {'publication': 'WOS:000275558601232', 'role': 'publisher', 'seq_no': '1'}]]\n"
     ]
    }
   ],
   "source": [
    "for k in kkey_edge[:][:]:\n",
    "    if \"pub\" in k[0] and \"loc\" in k[1]:\n",
    "        print(k)\n",
    "        tmp = [x for x in rtotu[k] if len(x[1]) > 0]\n",
    "        pprint(tmp[:5])"
   ]
  },
  {
   "cell_type": "code",
   "execution_count": 13,
   "metadata": {},
   "outputs": [
    {
     "name": "stdout",
     "output_type": "stream",
     "text": [
      "language\n",
      "[{'name': 'spanish'},\n",
      " {'name': 'chinese'},\n",
      " {'name': 'slovenian'},\n",
      " {'name': 'ukrainian'},\n",
      " {'name': 'italian'}]\n",
      "location\n",
      "[{'anchor': 'reprint',\n",
      "  'city': 'ankara',\n",
      "  'country': 'turkey',\n",
      "  'full_address': 'ankara diskapi educ & res hosp, dept gen surg, 1424 cadde '\n",
      "                  '1435 sokak 4-14, tr-06520 ankara, turkey',\n",
      "  'street': '1424 cadde 1435 sokak 4-14'},\n",
      " {'anchor': True,\n",
      "  'city': 'puchheim',\n",
      "  'country': 'germany',\n",
      "  'full_address': 'fa masimo europe ltd, puchheim, germany'},\n",
      " {'anchor': True,\n",
      "  'city': 'beijing',\n",
      "  'country': 'peoples r china',\n",
      "  'full_address': 'beijing univ posts & telecommun, informat secur ctr, '\n",
      "                  'beijing 100876, peoples r china'},\n",
      " {'anchor': True,\n",
      "  'city': 'izmir',\n",
      "  'country': 'turkey',\n",
      "  'full_address': 'ege univ, sch med, dept phys med & rehabil, izmir, turkey'},\n",
      " {'anchor': 'reprint',\n",
      "  'city': 'norwich',\n",
      "  'country': 'england',\n",
      "  'full_address': 'univ e anglia, sch environm sci, norwich nr4 7tj, norfolk, '\n",
      "                  'england',\n",
      "  'state': 'norfolk'}]\n"
     ]
    }
   ],
   "source": [
    "# publisher -> seq_no addr_no\n",
    "# one location -> many publisher\n",
    "# on addr_no\n",
    "for k in kkey_vertex[15:][:2]:\n",
    "    print(k)\n",
    "    pprint(rtotu[k][-5:])"
   ]
  },
  {
   "cell_type": "code",
   "execution_count": 14,
   "metadata": {},
   "outputs": [
    {
     "name": "stdout",
     "output_type": "stream",
     "text": [
      "(58, 1000)\n"
     ]
    },
    {
     "data": {
      "text/plain": [
       "(conference, date)                   0.214\n",
       "(publication, conference)            0.216\n",
       "conference                           0.216\n",
       "conference_title                     0.216\n",
       "conference_info                      0.216\n",
       "(conference, location)               0.218\n",
       "(conference, conference_title)       0.218\n",
       "(conference, conference_info)        0.218\n",
       "(publication, funding_text)          0.369\n",
       "funding_text                         0.369\n",
       "grant_id                             0.523\n",
       "(publication, grant_id)              0.523\n",
       "conference_sponsor                   0.550\n",
       "(conference, conference_sponsor)     0.562\n",
       "agency                               0.778\n",
       "(publication, agency)                0.778\n",
       "(publication, medium)                0.950\n",
       "medium                               0.950\n",
       "(publication, bib_id)                1.000\n",
       "publication_type                     1.000\n",
       "(publication, publication_type)      1.000\n",
       "(publication, some_id)               1.000\n",
       "publisher                            1.000\n",
       "(publisher, location)                1.000\n",
       "(publisher, publication)             1.000\n",
       "bib_id                               1.000\n",
       "some_id                              1.000\n",
       "language                             1.001\n",
       "(publication, language)              1.001\n",
       "subheading                           1.002\n",
       "(publication, subheading)            1.002\n",
       "heading                              1.025\n",
       "(publication, heading)               1.025\n",
       "abstract                             1.032\n",
       "(publication, abstract)              1.032\n",
       "edition                              1.178\n",
       "(publication, edition)               1.178\n",
       "(publication, document_type)         1.413\n",
       "document_type                        1.413\n",
       "(agency, grant_id)                   1.552\n",
       "suborganization                      1.947\n",
       "(publication, subject)               2.274\n",
       "subject                              2.274\n",
       "(publication, keyword)               2.281\n",
       "keyword                              2.281\n",
       "(medium, medium_title)               3.639\n",
       "(location, organization)             3.699\n",
       "organization                         3.801\n",
       "location                             3.955\n",
       "(organization, suborganization)      4.710\n",
       "(contributor, location)              4.878\n",
       "date                                11.966\n",
       "medium_title                        18.870\n",
       "(publication, date)                 24.068\n",
       "publication                         24.340\n",
       "contributor                         24.550\n",
       "(publication, medium_title)         27.043\n",
       "(contributor, publication)          27.413\n",
       "dtype: float64"
      ]
     },
     "execution_count": 14,
     "metadata": {},
     "output_type": "execute_result"
    }
   ],
   "source": [
    "dfr = pd.concat(stats, axis=1)\n",
    "print(dfr.shape)\n",
    "dfr = dfr.fillna(0)\n",
    "dfr.mean(axis=1).sort_values()"
   ]
  },
  {
   "cell_type": "code",
   "execution_count": 103,
   "metadata": {},
   "outputs": [
    {
     "data": {
      "text/plain": [
       "[('agency', 'grant_id'),\n",
       " ('conference', 'conference_info'),\n",
       " ('conference', 'conference_sponsor'),\n",
       " ('conference', 'conference_title'),\n",
       " ('conference', 'date'),\n",
       " ('conference', 'location'),\n",
       " ('contributor', 'location'),\n",
       " ('contributor', 'publication'),\n",
       " ('contributor', 'role'),\n",
       " ('location', 'organization'),\n",
       " ('medium', 'medium_title'),\n",
       " ('organization', 'suborganization'),\n",
       " ('publication', 'abstract'),\n",
       " ('publication', 'agency'),\n",
       " ('publication', 'bib_id'),\n",
       " ('publication', 'conference'),\n",
       " ('publication', 'date'),\n",
       " ('publication', 'document_type'),\n",
       " ('publication', 'edition'),\n",
       " ('publication', 'funding_text'),\n",
       " ('publication', 'grant_id'),\n",
       " ('publication', 'heading'),\n",
       " ('publication', 'keyword'),\n",
       " ('publication', 'language'),\n",
       " ('publication', 'medium'),\n",
       " ('publication', 'medium_title'),\n",
       " ('publication', 'publication_type'),\n",
       " ('publication', 'publisher'),\n",
       " ('publication', 'some_id'),\n",
       " ('publication', 'subheading'),\n",
       " ('publication', 'subject'),\n",
       " ('publisher', 'location'),\n",
       " ('publisher', 'role')]"
      ]
     },
     "execution_count": 103,
     "metadata": {},
     "output_type": "execute_result"
    }
   ],
   "source": [
    "kkey_edge"
   ]
  },
  {
   "cell_type": "code",
   "execution_count": null,
   "metadata": {},
   "outputs": [],
   "source": [
    "from datetime import datetime\n",
    "date_a = '2010-01-01'\n",
    "date_a_ = datetime.strptime(date_a, \"%Y-%m-%d\")\n",
    "year, month, day = date_a_.year, date_a_.month, date_a_.day\n",
    "year, month, day"
   ]
  },
  {
   "cell_type": "code",
   "execution_count": null,
   "metadata": {},
   "outputs": [],
   "source": [
    "date_b = 'NOV 03-04, 2008'.split(\", \")\n",
    "year = datetime.strptime(date_b[-1], \"%Y\").year\n",
    "date_b_ = datetime.strptime(date_b[0].split(\"-\")[0], \"%b %d\")\n",
    "month, day = date_b_.month, date_b_.day\n",
    "year, month, day"
   ]
  },
  {
   "cell_type": "code",
   "execution_count": null,
   "metadata": {},
   "outputs": [],
   "source": [
    "rtot['date']"
   ]
  },
  {
   "cell_type": "code",
   "execution_count": null,
   "metadata": {},
   "outputs": [],
   "source": [
    "# def foo(n):\n",
    "#     for j, x in enumerate(data[:n]):\n",
    "#             r0 = process_document_top(x, config[\"json\"], \n",
    "#                                      config[\"vertex_collections\"],\n",
    "#                                      excl_fields, [\"publication\"]\n",
    "#                                     )\n",
    "# %timeit -n1 -r3 foo(10000)"
   ]
  },
  {
   "cell_type": "code",
   "execution_count": null,
   "metadata": {},
   "outputs": [],
   "source": [
    "# parallelize\n",
    "kwargs = {\"config\": config[\"json\"], \n",
    "          \"vertex_config\": config[\"vertex_collections\"], \n",
    "          \"edge_fields\": excl_fields, \n",
    "          \"merge_collections\": [\"publication\"]\n",
    "}\n",
    "def foo_parallel(n):\n",
    "    func = partial(process_document_top, **kwargs)\n",
    "    n_proc = 4\n",
    "    with mp.Pool(n_proc) as p:\n",
    "        r = p.map(func, data[:n])\n",
    "%timeit -n1 -r3 foo_parallel(10000)"
   ]
  },
  {
   "cell_type": "code",
   "execution_count": null,
   "metadata": {},
   "outputs": [],
   "source": [
    "%timeit -n1 -r1 foo(50000)"
   ]
  }
 ],
 "metadata": {
  "kernelspec": {
   "display_name": "Python 3",
   "language": "python",
   "name": "python3"
  },
  "language_info": {
   "codemirror_mode": {
    "name": "ipython",
    "version": 3
   },
   "file_extension": ".py",
   "mimetype": "text/x-python",
   "name": "python",
   "nbconvert_exporter": "python",
   "pygments_lexer": "ipython3",
   "version": "3.8.5"
  }
 },
 "nbformat": 4,
 "nbformat_minor": 4
}
