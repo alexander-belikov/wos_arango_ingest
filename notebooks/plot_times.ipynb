{
 "cells": [
  {
   "cell_type": "code",
   "execution_count": 1,
   "metadata": {},
   "outputs": [],
   "source": [
    "import gzip\n",
    "import json\n",
    "import pandas as pd\n",
    "import numpy as np\n",
    "from os.path import join, isfile\n",
    "from os import listdir\n",
    "import seaborn as sns"
   ]
  },
  {
   "cell_type": "code",
   "execution_count": 2,
   "metadata": {},
   "outputs": [],
   "source": [
    "def get_json(fname, fpath='../results/arango/'):\n",
    "    fname = join(fpath, fname)\n",
    "    with open(fname, 'r') as fp:\n",
    "        data = json.load(fp)\n",
    "    return data"
   ]
  },
  {
   "cell_type": "code",
   "execution_count": 3,
   "metadata": {},
   "outputs": [
    {
     "data": {
      "text/plain": [
       "['query5_profile_limit_640.json', 'query4_profile_limit_10.json']"
      ]
     },
     "execution_count": 3,
     "metadata": {},
     "output_type": "execute_result"
    }
   ],
   "source": [
    "sourcepath = '../results/arango/'\n",
    "only_json = [f for f in listdir(sourcepath) if \n",
    "                 isfile(join(sourcepath, f)) \n",
    "                 and f[-4:] == 'json']\n",
    "only_json[:2]"
   ]
  },
  {
   "cell_type": "code",
   "execution_count": 4,
   "metadata": {},
   "outputs": [],
   "source": [
    "json_items = [(fn.split('_')[0][-1], fn) for fn in only_json]"
   ]
  },
  {
   "cell_type": "code",
   "execution_count": 54,
   "metadata": {},
   "outputs": [],
   "source": [
    "baselines = [x for x in json_items if len(x[1].split('_')) < 3]\n",
    "dfb = pd.DataFrame(baselines, columns=['q', 'fname'])\n",
    "dfb['json'] = dfb.fname.apply(lambda x: get_json(x))\n",
    "dfb['mean'] = dfb.json.apply(lambda x: \n",
    "    np.mean([float(y['executing']) for y in x]))\n",
    "dfb = dfb.sort_values('q')\n",
    "bdict = dict(dfb[['q', 'mean']].values)"
   ]
  },
  {
   "cell_type": "code",
   "execution_count": 44,
   "metadata": {},
   "outputs": [],
   "source": [
    "arrs = [x for x in json_items if len(x[1].split('_')) > 3]\n",
    "df_main = pd.DataFrame(arrs, columns=['q', 'fname'])\n",
    "df_main['json'] = df_main.fname.apply(lambda x: get_json(x))\n",
    "df_main['lim'] = df_main.fname.apply(lambda x: \n",
    "            float(x.split('_')[-1].split('.')[0]))\n",
    "df_main['val'] = df_main.json.apply(lambda x: \n",
    "                    [y['executing'] for y in x])\n",
    "df_main = df_main.explode('val')\n",
    "df_main.val = df_main.val.astype(np.float)"
   ]
  },
  {
   "cell_type": "code",
   "execution_count": 45,
   "metadata": {},
   "outputs": [
    {
     "data": {
      "text/html": [
       "<div>\n",
       "<style scoped>\n",
       "    .dataframe tbody tr th:only-of-type {\n",
       "        vertical-align: middle;\n",
       "    }\n",
       "\n",
       "    .dataframe tbody tr th {\n",
       "        vertical-align: top;\n",
       "    }\n",
       "\n",
       "    .dataframe thead th {\n",
       "        text-align: right;\n",
       "    }\n",
       "</style>\n",
       "<table border=\"1\" class=\"dataframe\">\n",
       "  <thead>\n",
       "    <tr style=\"text-align: right;\">\n",
       "      <th></th>\n",
       "      <th>q</th>\n",
       "      <th>lim</th>\n",
       "      <th>val</th>\n",
       "    </tr>\n",
       "  </thead>\n",
       "  <tbody>\n",
       "    <tr>\n",
       "      <td>11</td>\n",
       "      <td>1</td>\n",
       "      <td>5.0</td>\n",
       "      <td>0.000396</td>\n",
       "    </tr>\n",
       "    <tr>\n",
       "      <td>11</td>\n",
       "      <td>1</td>\n",
       "      <td>5.0</td>\n",
       "      <td>0.000280</td>\n",
       "    </tr>\n",
       "    <tr>\n",
       "      <td>11</td>\n",
       "      <td>1</td>\n",
       "      <td>5.0</td>\n",
       "      <td>0.000226</td>\n",
       "    </tr>\n",
       "    <tr>\n",
       "      <td>17</td>\n",
       "      <td>1</td>\n",
       "      <td>10.0</td>\n",
       "      <td>0.000431</td>\n",
       "    </tr>\n",
       "    <tr>\n",
       "      <td>17</td>\n",
       "      <td>1</td>\n",
       "      <td>10.0</td>\n",
       "      <td>0.000393</td>\n",
       "    </tr>\n",
       "  </tbody>\n",
       "</table>\n",
       "</div>"
      ],
      "text/plain": [
       "    q   lim       val\n",
       "11  1   5.0  0.000396\n",
       "11  1   5.0  0.000280\n",
       "11  1   5.0  0.000226\n",
       "17  1  10.0  0.000431\n",
       "17  1  10.0  0.000393"
      ]
     },
     "execution_count": 45,
     "metadata": {},
     "output_type": "execute_result"
    }
   ],
   "source": [
    "dfr = df_main.sort_values(['q', 'lim'])[['q', 'lim', 'val']]\n",
    "dfr.head()"
   ]
  },
  {
   "cell_type": "code",
   "execution_count": 46,
   "metadata": {},
   "outputs": [
    {
     "data": {
      "text/plain": [
       "5"
      ]
     },
     "execution_count": 46,
     "metadata": {},
     "output_type": "execute_result"
    }
   ],
   "source": [
    "len(g.axes)"
   ]
  },
  {
   "cell_type": "code",
   "execution_count": 47,
   "metadata": {},
   "outputs": [
    {
     "data": {
      "text/html": [
       "<div>\n",
       "<style scoped>\n",
       "    .dataframe tbody tr th:only-of-type {\n",
       "        vertical-align: middle;\n",
       "    }\n",
       "\n",
       "    .dataframe tbody tr th {\n",
       "        vertical-align: top;\n",
       "    }\n",
       "\n",
       "    .dataframe thead th {\n",
       "        text-align: right;\n",
       "    }\n",
       "</style>\n",
       "<table border=\"1\" class=\"dataframe\">\n",
       "  <thead>\n",
       "    <tr style=\"text-align: right;\">\n",
       "      <th></th>\n",
       "      <th>q</th>\n",
       "      <th>fname</th>\n",
       "      <th>json</th>\n",
       "      <th>val</th>\n",
       "    </tr>\n",
       "  </thead>\n",
       "  <tbody>\n",
       "    <tr>\n",
       "      <td>0</td>\n",
       "      <td>1</td>\n",
       "      <td>query1_profile.json</td>\n",
       "      <td>[{'initializing': 3.337860107421875e-06, 'pars...</td>\n",
       "      <td>[101.0085186958313, 101.5760395526886, 100.521...</td>\n",
       "    </tr>\n",
       "    <tr>\n",
       "      <td>4</td>\n",
       "      <td>2</td>\n",
       "      <td>query2_profile.json</td>\n",
       "      <td>[{'initializing': 2.1457672119140625e-06, 'par...</td>\n",
       "      <td>[125.39717483520508, 125.16450238227844, 127.4...</td>\n",
       "    </tr>\n",
       "    <tr>\n",
       "      <td>2</td>\n",
       "      <td>3</td>\n",
       "      <td>query3_profile.json</td>\n",
       "      <td>[{'initializing': 3.337860107421875e-06, 'pars...</td>\n",
       "      <td>[21.899747848510742, 21.81473207473755, 21.774...</td>\n",
       "    </tr>\n",
       "    <tr>\n",
       "      <td>3</td>\n",
       "      <td>4</td>\n",
       "      <td>query4_profile.json</td>\n",
       "      <td>[{'initializing': 2.384185791015625e-06, 'pars...</td>\n",
       "      <td>[124.03957271575928, 70.66577792167664, 71.040...</td>\n",
       "    </tr>\n",
       "    <tr>\n",
       "      <td>1</td>\n",
       "      <td>5</td>\n",
       "      <td>query5_profile.json</td>\n",
       "      <td>[{'initializing': 3.337860107421875e-06, 'pars...</td>\n",
       "      <td>[246.01418828964233, 245.3186514377594, 245.13...</td>\n",
       "    </tr>\n",
       "  </tbody>\n",
       "</table>\n",
       "</div>"
      ],
      "text/plain": [
       "   q                fname                                               json  \\\n",
       "0  1  query1_profile.json  [{'initializing': 3.337860107421875e-06, 'pars...   \n",
       "4  2  query2_profile.json  [{'initializing': 2.1457672119140625e-06, 'par...   \n",
       "2  3  query3_profile.json  [{'initializing': 3.337860107421875e-06, 'pars...   \n",
       "3  4  query4_profile.json  [{'initializing': 2.384185791015625e-06, 'pars...   \n",
       "1  5  query5_profile.json  [{'initializing': 3.337860107421875e-06, 'pars...   \n",
       "\n",
       "                                                 val  \n",
       "0  [101.0085186958313, 101.5760395526886, 100.521...  \n",
       "4  [125.39717483520508, 125.16450238227844, 127.4...  \n",
       "2  [21.899747848510742, 21.81473207473755, 21.774...  \n",
       "3  [124.03957271575928, 70.66577792167664, 71.040...  \n",
       "1  [246.01418828964233, 245.3186514377594, 245.13...  "
      ]
     },
     "execution_count": 47,
     "metadata": {},
     "output_type": "execute_result"
    }
   ],
   "source": [
    "dfb"
   ]
  },
  {
   "cell_type": "code",
   "execution_count": 56,
   "metadata": {},
   "outputs": [
    {
     "data": {
      "image/png": "[encoded data removed]",
      "text/plain": [
       "<Figure size 648x432 with 5 Axes>"
      ]
     },
     "metadata": {
      "needs_background": "light"
     },
     "output_type": "display_data"
    }
   ],
   "source": [
    "g = sns.FacetGrid(dfr, col='q', sharex=False, sharey=False, \n",
    "                  col_wrap=3, margin_titles=True)\n",
    "g.map(sns.lineplot, 'lim', 'val').set(yscale='log').set(xscale='log')\n",
    "for j, ax in enumerate(g.axes):\n",
    "    ax.axhline(bdict[str(j+1)], c='r')"
   ]
  },
  {
   "cell_type": "code",
   "execution_count": null,
   "metadata": {},
   "outputs": [],
   "source": []
  }
 ],
 "metadata": {
  "kernelspec": {
   "display_name": "Python 3",
   "language": "python",
   "name": "python3"
  },
  "language_info": {
   "codemirror_mode": {
    "name": "ipython",
    "version": 3
   },
   "file_extension": ".py",
   "mimetype": "text/x-python",
   "name": "python",
   "nbconvert_exporter": "python",
   "pygments_lexer": "ipython3",
   "version": "3.6.9"
  }
 },
 "nbformat": 4,
 "nbformat_minor": 2
}
