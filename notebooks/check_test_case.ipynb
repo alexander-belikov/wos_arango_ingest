{
 "cells": [
  {
   "cell_type": "code",
   "execution_count": 4,
   "metadata": {},
   "outputs": [],
   "source": [
    "import pandas as pd\n",
    "from os.path import expanduser"
   ]
  },
  {
   "cell_type": "code",
   "execution_count": 8,
   "metadata": {},
   "outputs": [],
   "source": [
    "fpath = expanduser('~/data/wos/wos_toy/')\n",
    "dfj = pd.read_csv(fpath + 'dummy_publications.csv', index_col=0)"
   ]
  },
  {
   "cell_type": "code",
   "execution_count": 13,
   "metadata": {},
   "outputs": [
    {
     "data": {
      "text/plain": [
       "issn\n",
       "J1    3\n",
       "J2    2\n",
       "J3    3\n",
       "dtype: int64"
      ]
     },
     "execution_count": 13,
     "metadata": {},
     "output_type": "execute_result"
    }
   ],
   "source": [
    "dfj.groupby('issn').apply(lambda x: x['wos_id'].shape[0])"
   ]
  },
  {
   "cell_type": "code",
   "execution_count": 15,
   "metadata": {},
   "outputs": [],
   "source": [
    "fpath = expanduser('~/data/wos/wos_toy/')\n",
    "dfc = pd.read_csv(fpath + 'dummy_contributors.csv', index_col=0)"
   ]
  },
  {
   "cell_type": "code",
   "execution_count": 17,
   "metadata": {},
   "outputs": [
    {
     "data": {
      "text/plain": [
       "wos_id\n",
       "P1    2\n",
       "P2    3\n",
       "P3    1\n",
       "P4    2\n",
       "P5    2\n",
       "P6    4\n",
       "P7    1\n",
       "P8    1\n",
       "dtype: int64"
      ]
     },
     "execution_count": 17,
     "metadata": {},
     "output_type": "execute_result"
    }
   ],
   "source": [
    "dfj.groupby('wos_id').apply(lambda x: x[['first_name', 'last_name']].shape[0])"
   ]
  },
  {
   "cell_type": "code",
   "execution_count": 18,
   "metadata": {},
   "outputs": [
    {
     "data": {
      "text/plain": [
       "first_name  last_name\n",
       "A           L1           6\n",
       "            L2           3\n",
       "            L3           2\n",
       "            L4           1\n",
       "            L5           1\n",
       "            L6           1\n",
       "B           L1           1\n",
       "            L2           1\n",
       "dtype: int64"
      ]
     },
     "execution_count": 18,
     "metadata": {},
     "output_type": "execute_result"
    }
   ],
   "source": [
    "dfj.groupby(['first_name', 'last_name']).apply(lambda x: x['wos_id'].shape[0])"
   ]
  },
  {
   "cell_type": "code",
   "execution_count": null,
   "metadata": {},
   "outputs": [],
   "source": []
  }
 ],
 "metadata": {
  "kernelspec": {
   "display_name": "Python 3",
   "language": "python",
   "name": "python3"
  },
  "language_info": {
   "codemirror_mode": {
    "name": "ipython",
    "version": 3
   },
   "file_extension": ".py",
   "mimetype": "text/x-python",
   "name": "python",
   "nbconvert_exporter": "python",
   "pygments_lexer": "ipython3",
   "version": "3.6.9"
  }
 },
 "nbformat": 4,
 "nbformat_minor": 2
}
