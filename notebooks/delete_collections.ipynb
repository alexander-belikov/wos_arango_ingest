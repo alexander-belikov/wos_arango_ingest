{
 "cells": [
  {
   "cell_type": "code",
   "execution_count": 1,
   "metadata": {},
   "outputs": [],
   "source": [
    "# python-arango==5.2.1\n",
    "from arango import ArangoClient"
   ]
  },
  {
   "cell_type": "code",
   "execution_count": 18,
   "metadata": {},
   "outputs": [],
   "source": [
    "client = ArangoClient()"
   ]
  },
  {
   "cell_type": "code",
   "execution_count": 19,
   "metadata": {},
   "outputs": [],
   "source": [
    "sys_db = client.db('_system', username='root', password='123')"
   ]
  },
  {
   "cell_type": "code",
   "execution_count": 20,
   "metadata": {},
   "outputs": [
    {
     "name": "stdout",
     "output_type": "stream",
     "text": [
      "['organizations_publications_edges', 'organizations', 'publications_media_edges', 'media', 'publications_languages_edges', 'languages', 'contributors', 'contributors_publications_edges', 'publications', 'publications_publications_edges']\n",
      "[]\n"
     ]
    }
   ],
   "source": [
    "print([c['name'] for c in sys_db.collections() if c['name'][0] != '_'])\n",
    "cnames = [c['name'] for c in sys_db.collections() if c['name'][0] != '_']\n",
    "for gn in cnames:\n",
    "    sys_db.delete_collection(gn)\n",
    "print([c['name'] for c in sys_db.collections() if c['name'][0] != '_'])"
   ]
  },
  {
   "cell_type": "code",
   "execution_count": 21,
   "metadata": {},
   "outputs": [
    {
     "name": "stdout",
     "output_type": "stream",
     "text": [
      "graphs:\n",
      "['publications__media_graph', 'publications_publications_graph', 'publications_media_graph', 'publications_languages_graph', 'contributors_publications_graph', 'organizations_publications_graph']\n",
      "[]\n"
     ]
    }
   ],
   "source": [
    "print('graphs:')\n",
    "print([c['name'] for c in sys_db.graphs()])\n",
    "gnames = [c['name'] for c in sys_db.graphs()]\n",
    "for gn in gnames:\n",
    "    sys_db.delete_graph(gn)\n",
    "print([c['name'] for c in sys_db.graphs()])"
   ]
  },
  {
   "cell_type": "code",
   "execution_count": null,
   "metadata": {},
   "outputs": [],
   "source": []
  }
 ],
 "metadata": {
  "kernelspec": {
   "display_name": "Python 3",
   "language": "python",
   "name": "python3"
  },
  "language_info": {
   "codemirror_mode": {
    "name": "ipython",
    "version": 3
   },
   "file_extension": ".py",
   "mimetype": "text/x-python",
   "name": "python",
   "nbconvert_exporter": "python",
   "pygments_lexer": "ipython3",
   "version": "3.6.9"
  }
 },
 "nbformat": 4,
 "nbformat_minor": 2
}
