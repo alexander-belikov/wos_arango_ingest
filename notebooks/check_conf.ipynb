{
 "cells": [
  {
   "cell_type": "code",
   "execution_count": 15,
   "metadata": {},
   "outputs": [],
   "source": [
    "import yaml\n",
    "from pprint import pprint"
   ]
  },
  {
   "cell_type": "code",
   "execution_count": 16,
   "metadata": {},
   "outputs": [],
   "source": [
    "import sys\n",
    "sys.path.insert(1, '../')"
   ]
  },
  {
   "cell_type": "code",
   "execution_count": 17,
   "metadata": {},
   "outputs": [],
   "source": [
    "with open('../conf/wos.yaml', \"r\") as f:\n",
    "    args = yaml.load(f, Loader=yaml.FullLoader)"
   ]
  },
  {
   "cell_type": "code",
   "execution_count": 18,
   "metadata": {},
   "outputs": [
    {
     "name": "stdout",
     "output_type": "stream",
     "text": [
      "{'table': [{'edge_collection': [['publication', 'medium'],\n",
      "                                ['publication', 'language']],\n",
      "            'filetype': 'publications',\n",
      "            'vertex_collections': [{'map_fields': {'pubday': 'day',\n",
      "                                                   'pubmonth': 'month',\n",
      "                                                   'pubyear': 'year',\n",
      "                                                   'wos_id': '_key'},\n",
      "                                    'type': 'publication'},\n",
      "                                   {'map_fields': {'source': 'title'},\n",
      "                                    'type': 'medium'},\n",
      "                                   {'type': 'language'}]},\n",
      "           {'edge_collection': [['contributor', 'publication']],\n",
      "            'filetype': 'contributors',\n",
      "            'vertex_collections': [{'type': 'contributor'},\n",
      "                                   {'type': 'publication'}]},\n",
      "           {'edge_collection': [['organization', 'publication']],\n",
      "            'filetype': 'institutions',\n",
      "            'vertex_collections': [{'type': 'organization'},\n",
      "                                   {'type': 'publication'}]},\n",
      "           {'edge_collection': [['publication', 'publication']],\n",
      "            'filetype': 'refs',\n",
      "            'vertex_collections': [{'map_fields': {'uid': '_key'},\n",
      "                                    'type': 'publication'},\n",
      "                                   {'map_fields': {'wos_id': '_key'},\n",
      "                                    'type': 'publication'}]}],\n",
      " 'vertex_collections': [{'publication': {'basename': 'publications',\n",
      "                                         'extra_index': [{'fields': ['title'],\n",
      "                                                          'type': 'hash',\n",
      "                                                          'unique': False},\n",
      "                                                         {'fields': ['year'],\n",
      "                                                          'type': 'hash',\n",
      "                                                          'unique': False}],\n",
      "                                         'field_types': {'day': 'int',\n",
      "                                                         'month': 'int',\n",
      "                                                         'year': 'int'},\n",
      "                                         'fields': ['_key',\n",
      "                                                    'accession_no',\n",
      "                                                    'title',\n",
      "                                                    'year',\n",
      "                                                    'month',\n",
      "                                                    'day'],\n",
      "                                         'index': ['_key']}},\n",
      "                        {'medium': {'basename': 'media',\n",
      "                                    'extra_index': [{'fields': ['issn'],\n",
      "                                                     'type': 'hash',\n",
      "                                                     'unique': False}],\n",
      "                                    'fields': ['issn',\n",
      "                                               'isbn',\n",
      "                                               'title',\n",
      "                                               'eissn',\n",
      "                                               'eisbn'],\n",
      "                                    'index': ['issn', 'isbn', 'title']}},\n",
      "                        {'language': {'basename': 'languages',\n",
      "                                      'fields': ['language'],\n",
      "                                      'index': ['language']}},\n",
      "                        {'contributor': {'basename': 'contributors',\n",
      "                                         'fields': ['first_name', 'last_name'],\n",
      "                                         'index': ['first_name', 'last_name']}},\n",
      "                        {'organization': {'basename': 'organizations',\n",
      "                                          'extra_index': [{'fields': ['country'],\n",
      "                                                           'type': 'hash',\n",
      "                                                           'unique': False}],\n",
      "                                          'fields': ['organization',\n",
      "                                                     'country',\n",
      "                                                     'city'],\n",
      "                                          'index': ['organization',\n",
      "                                                    'country',\n",
      "                                                    'city']}}]}\n"
     ]
    }
   ],
   "source": [
    "pprint(args)"
   ]
  },
  {
   "cell_type": "code",
   "execution_count": null,
   "metadata": {},
   "outputs": [],
   "source": []
  }
 ],
 "metadata": {
  "kernelspec": {
   "display_name": "Python 3",
   "language": "python",
   "name": "python3"
  },
  "language_info": {
   "codemirror_mode": {
    "name": "ipython",
    "version": 3
   },
   "file_extension": ".py",
   "mimetype": "text/x-python",
   "name": "python",
   "nbconvert_exporter": "python",
   "pygments_lexer": "ipython3",
   "version": "3.8.5"
  }
 },
 "nbformat": 4,
 "nbformat_minor": 4
}
