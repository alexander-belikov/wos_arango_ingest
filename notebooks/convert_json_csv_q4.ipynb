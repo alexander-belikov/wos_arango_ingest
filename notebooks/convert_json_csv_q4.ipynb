{
 "cells": [
  {
   "cell_type": "code",
   "execution_count": 1,
   "metadata": {},
   "outputs": [],
   "source": [
    "import gzip\n",
    "import json\n",
    "import pandas as pd\n",
    "\n",
    "with gzip.open('../results/arango/query4_result_batch_0.json.gz', \"rb\") as f:\n",
    "    data = json.loads(f.read(), encoding=\"utf-8\")"
   ]
  },
  {
   "cell_type": "code",
   "execution_count": 2,
   "metadata": {},
   "outputs": [
    {
     "data": {
      "text/plain": [
       "909"
      ]
     },
     "execution_count": 2,
     "metadata": {},
     "output_type": "execute_result"
    }
   ],
   "source": [
    "len(data)"
   ]
  },
  {
   "cell_type": "code",
   "execution_count": 3,
   "metadata": {},
   "outputs": [],
   "source": [
    "# with gzip.open('../results/arango/query4_result_limit_10000000_batch_0.json.gz', \"rb\") as f:\n",
    "#     data2 = json.loads(f.read(), encoding=\"utf-8\")\n",
    "# len(data2), data2[:5]"
   ]
  },
  {
   "cell_type": "code",
   "execution_count": 4,
   "metadata": {},
   "outputs": [
    {
     "data": {
      "text/plain": [
       "[{'f': 126, 'ids': ['WOS:A1978FV54600117']},\n",
       " {'f': 103, 'ids': ['WOS:A1978FW60600008']},\n",
       " {'f': 85, 'ids': ['WOS:A1978EV31700040']},\n",
       " {'f': 75, 'ids': ['WOS:A1978EP90300642']},\n",
       " {'f': 71, 'ids': ['WOS:A1978EK02600050']}]"
      ]
     },
     "execution_count": 4,
     "metadata": {},
     "output_type": "execute_result"
    }
   ],
   "source": [
    "data[:5]"
   ]
  },
  {
   "cell_type": "code",
   "execution_count": 5,
   "metadata": {},
   "outputs": [],
   "source": [
    "flat = [(x, item['f']) for item in data for x in item['ids']]"
   ]
  },
  {
   "cell_type": "code",
   "execution_count": 6,
   "metadata": {},
   "outputs": [
    {
     "data": {
      "text/plain": [
       "6618"
      ]
     },
     "execution_count": 6,
     "metadata": {},
     "output_type": "execute_result"
    }
   ],
   "source": [
    "len(flat)"
   ]
  },
  {
   "cell_type": "code",
   "execution_count": 7,
   "metadata": {},
   "outputs": [],
   "source": [
    "df = pd.DataFrame(flat, columns=['id', 'frac'])"
   ]
  },
  {
   "cell_type": "code",
   "execution_count": 8,
   "metadata": {},
   "outputs": [
    {
     "data": {
      "text/html": [
       "<div>\n",
       "<style scoped>\n",
       "    .dataframe tbody tr th:only-of-type {\n",
       "        vertical-align: middle;\n",
       "    }\n",
       "\n",
       "    .dataframe tbody tr th {\n",
       "        vertical-align: top;\n",
       "    }\n",
       "\n",
       "    .dataframe thead th {\n",
       "        text-align: right;\n",
       "    }\n",
       "</style>\n",
       "<table border=\"1\" class=\"dataframe\">\n",
       "  <thead>\n",
       "    <tr style=\"text-align: right;\">\n",
       "      <th></th>\n",
       "      <th>id</th>\n",
       "      <th>frac</th>\n",
       "    </tr>\n",
       "  </thead>\n",
       "  <tbody>\n",
       "    <tr>\n",
       "      <td>0</td>\n",
       "      <td>WOS:A1978FV54600117</td>\n",
       "      <td>126.0</td>\n",
       "    </tr>\n",
       "    <tr>\n",
       "      <td>1</td>\n",
       "      <td>WOS:A1978FW60600008</td>\n",
       "      <td>103.0</td>\n",
       "    </tr>\n",
       "    <tr>\n",
       "      <td>2</td>\n",
       "      <td>WOS:A1978EV31700040</td>\n",
       "      <td>85.0</td>\n",
       "    </tr>\n",
       "    <tr>\n",
       "      <td>3</td>\n",
       "      <td>WOS:A1978EP90300642</td>\n",
       "      <td>75.0</td>\n",
       "    </tr>\n",
       "    <tr>\n",
       "      <td>4</td>\n",
       "      <td>WOS:A1978EK02600050</td>\n",
       "      <td>71.0</td>\n",
       "    </tr>\n",
       "  </tbody>\n",
       "</table>\n",
       "</div>"
      ],
      "text/plain": [
       "                    id   frac\n",
       "0  WOS:A1978FV54600117  126.0\n",
       "1  WOS:A1978FW60600008  103.0\n",
       "2  WOS:A1978EV31700040   85.0\n",
       "3  WOS:A1978EP90300642   75.0\n",
       "4  WOS:A1978EK02600050   71.0"
      ]
     },
     "execution_count": 8,
     "metadata": {},
     "output_type": "execute_result"
    }
   ],
   "source": [
    "df.head()"
   ]
  },
  {
   "cell_type": "code",
   "execution_count": 9,
   "metadata": {},
   "outputs": [],
   "source": [
    "df.to_csv('../results/arango/q4_result.csv')"
   ]
  },
  {
   "cell_type": "code",
   "execution_count": 10,
   "metadata": {},
   "outputs": [],
   "source": [
    "df2 = pd.read_csv('../results/arango/q4_result.csv', index_col=0)"
   ]
  },
  {
   "cell_type": "code",
   "execution_count": 17,
   "metadata": {},
   "outputs": [
    {
     "data": {
      "text/plain": [
       "['WOS:A1978FV54600117',\n",
       " 'WOS:A1978FW60600008',\n",
       " 'WOS:A1978EV31700040',\n",
       " 'WOS:A1978EP90300642',\n",
       " 'WOS:A1978EK02600050',\n",
       " 'WOS:A1978EU89401637',\n",
       " 'WOS:A1978EW70500022',\n",
       " 'WOS:A1978EG81500237',\n",
       " 'WOS:A1978EP04700423',\n",
       " 'WOS:A1978EH33500016',\n",
       " 'WOS:A1978FD98400005',\n",
       " 'WOS:A1978FA53700033',\n",
       " 'WOS:A1978FR51900049',\n",
       " 'WOS:A1978EV37500005',\n",
       " 'WOS:A1978FB29000003',\n",
       " 'WOS:A1978FN91500003',\n",
       " 'WOS:A1978EK60600028',\n",
       " 'WOS:A1978GE27300182',\n",
       " 'WOS:A1978GE27300181',\n",
       " 'WOS:A1978FZ94800026',\n",
       " 'WOS:A1978FH83800015',\n",
       " 'WOS:A1978EY06600018',\n",
       " 'WOS:A1978EM67700084',\n",
       " 'WOS:A1978EM67700076',\n",
       " 'WOS:A1978EM67700077',\n",
       " 'WOS:A1978FB44900007',\n",
       " 'WOS:A1978GH96300067',\n",
       " 'WOS:A1978EL64500003',\n",
       " 'WOS:A1978GH96300092',\n",
       " 'WOS:A1978EX09700001',\n",
       " 'WOS:A1978FC70600009',\n",
       " 'WOS:A1978EX09700016',\n",
       " 'WOS:A1978GH96300091',\n",
       " 'WOS:A1978FT91100025',\n",
       " 'WOS:A1978EG71300011',\n",
       " 'WOS:A1978FM76100040',\n",
       " 'WOS:A1978EJ61900001',\n",
       " 'WOS:A1978ES38400141',\n",
       " 'WOS:A1978FJ18600004',\n",
       " 'WOS:A1978FM59000001',\n",
       " 'WOS:A1978GC25200056',\n",
       " 'WOS:A1978EP04700849',\n",
       " 'WOS:A1978FZ79400013',\n",
       " 'WOS:A1978FJ22100001',\n",
       " 'WOS:A1978EX18302314',\n",
       " 'WOS:A1978EX18302337',\n",
       " 'WOS:A1978ES45401920',\n",
       " 'WOS:A1978EV11700597',\n",
       " 'WOS:A1978EU89402087',\n",
       " 'WOS:A1978FT76200005',\n",
       " 'WOS:A1978EW70500023',\n",
       " 'WOS:A1978FQ52800084',\n",
       " 'WOS:A1978FB63300002',\n",
       " 'WOS:A1978FQ52800003',\n",
       " 'WOS:A1978GD76400013',\n",
       " 'WOS:A1978FV54600564',\n",
       " 'WOS:A1978EQ72500006',\n",
       " 'WOS:A1978FS42000125',\n",
       " 'WOS:A1978EP90300073',\n",
       " 'WOS:A1978EU89401016',\n",
       " 'WOS:A1978FB74800005',\n",
       " 'WOS:A1978EX18300342',\n",
       " 'WOS:A1978EP86400003',\n",
       " 'WOS:A1978EX18300582',\n",
       " 'WOS:A1978EZ98600115',\n",
       " 'WOS:A1978FX80100019',\n",
       " 'WOS:A1978EZ69500010',\n",
       " 'WOS:A1978GG67000001',\n",
       " 'WOS:A1978ET42900028',\n",
       " 'WOS:A1978GP40500006',\n",
       " 'WOS:A1978GJ03600004',\n",
       " 'WOS:A1978EP90300527',\n",
       " 'WOS:A1978ER59001387',\n",
       " 'WOS:A1978EU85000012',\n",
       " 'WOS:A1978EU89401670',\n",
       " 'WOS:A1978EX24900037',\n",
       " 'WOS:A1978ES27600005',\n",
       " 'WOS:A1978FG82100002',\n",
       " 'WOS:A1978FL69000004',\n",
       " 'WOS:A1978FC14800002',\n",
       " 'WOS:A1978EP04700291',\n",
       " 'WOS:A1978EG81500175',\n",
       " 'WOS:A1978EK02600051',\n",
       " 'WOS:A1978EX18301319',\n",
       " 'WOS:A1978EX18301473',\n",
       " 'WOS:A1978EU89402041',\n",
       " 'WOS:A1978GK50100001',\n",
       " 'WOS:A1978ET00300002',\n",
       " 'WOS:A1978FQ93700304',\n",
       " 'WOS:A1978EQ31200004',\n",
       " 'WOS:A1978FL51900245',\n",
       " 'WOS:A1978FD91400017',\n",
       " 'WOS:A1978FK25600017',\n",
       " 'WOS:A1978GA84500005',\n",
       " 'WOS:A1978ES45400070',\n",
       " 'WOS:A1978EJ16700017',\n",
       " 'WOS:A1978EP04701074',\n",
       " 'WOS:A1978ER10500813',\n",
       " 'WOS:A1978FY51700009',\n",
       " 'WOS:A1978EM15900001']"
      ]
     },
     "execution_count": 17,
     "metadata": {},
     "output_type": "execute_result"
    }
   ],
   "source": [
    "df2.head(100)['id'].to_list()"
   ]
  },
  {
   "cell_type": "code",
   "execution_count": null,
   "metadata": {},
   "outputs": [],
   "source": []
  }
 ],
 "metadata": {
  "kernelspec": {
   "display_name": "Python 3",
   "language": "python",
   "name": "python3"
  },
  "language_info": {
   "codemirror_mode": {
    "name": "ipython",
    "version": 3
   },
   "file_extension": ".py",
   "mimetype": "text/x-python",
   "name": "python",
   "nbconvert_exporter": "python",
   "pygments_lexer": "ipython3",
   "version": "3.6.9"
  }
 },
 "nbformat": 4,
 "nbformat_minor": 2
}
